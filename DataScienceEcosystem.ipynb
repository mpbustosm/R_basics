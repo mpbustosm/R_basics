{
 "cells": [
  {
   "cell_type": "markdown",
   "id": "f2224fe7-b9d4-4dba-8ac8-5e86b6618e1c",
   "metadata": {},
   "source": [
    "# Data Science Tools and Ecosystem"
   ]
  },
  {
   "cell_type": "markdown",
   "id": "256c5e7b-420c-4484-92f6-ec4a9ed769b2",
   "metadata": {
    "tags": []
   },
   "source": [
    "In this notebook, Data Science Tools and Ecosystem are summarized."
   ]
  },
  {
   "cell_type": "markdown",
   "id": "2dc200bc-b2df-4bf0-b302-0f7d0f33188d",
   "metadata": {},
   "source": [
    "##  Some of the popular languages that Data Scientists use are:"
   ]
  },
  {
   "cell_type": "markdown",
   "id": "098a12c1-6983-45cd-9cf4-7b9377fd3d77",
   "metadata": {},
   "source": [
    "* R\n",
    "* Python \n",
    "* Java\n",
    "* SQL "
   ]
  },
  {
   "cell_type": "markdown",
   "id": "a460f51c-f008-4bce-8683-e2468c7418de",
   "metadata": {},
   "source": [
    "## Some of the commonly used libraries used by Data Scientists include:"
   ]
  },
  {
   "cell_type": "markdown",
   "id": "a0c639ac-7e7d-4a11-978c-1c33724e84e4",
   "metadata": {},
   "source": [
    "* PyTorch\n",
    "* Keras\n",
    "* Pandas\n",
    "* Numpy "
   ]
  },
  {
   "cell_type": "markdown",
   "id": "bf3da4b6-999e-4a3f-9fba-132d93cb70d0",
   "metadata": {},
   "source": [
    "| Data Science Tools |\n",
    "|--------------------|\n",
    "| Jupyter Notebooks  |\n",
    "| RStudio            |\n",
    "| Apache    |\n"
   ]
  },
  {
   "cell_type": "markdown",
   "id": "53c5f121-aecf-427a-a3b6-5fc881d1c62b",
   "metadata": {},
   "source": [
    "### Below are a few examples of evaluating arithmetic expressions in Python.\n"
   ]
  },
  {
   "cell_type": "code",
   "execution_count": 2,
   "id": "d22488c5-ef4a-4b14-8170-6c4c3cf590c0",
   "metadata": {
    "tags": []
   },
   "outputs": [
    {
     "data": {
      "text/plain": [
       "17"
      ]
     },
     "execution_count": 2,
     "metadata": {},
     "output_type": "execute_result"
    }
   ],
   "source": [
    "# This is a simple arithmetic expression to multiply then add integers\n",
    "result = (3 * 4) + 5\n",
    "result"
   ]
  },
  {
   "cell_type": "code",
   "execution_count": 3,
   "id": "83b9b219-72e9-4dbe-b11f-aa6e7fa5da25",
   "metadata": {
    "tags": []
   },
   "outputs": [
    {
     "data": {
      "text/plain": [
       "3.3333333333333335"
      ]
     },
     "execution_count": 3,
     "metadata": {},
     "output_type": "execute_result"
    }
   ],
   "source": [
    "# This will convert 200 minutes to hours by dividing by 60\n",
    "hours = 200 / 60\n",
    "hours"
   ]
  },
  {
   "cell_type": "markdown",
   "id": "a26b30eb-61ae-4ee3-92bf-d7b1180a40fd",
   "metadata": {},
   "source": [
    "**Objectives:**\n",
    "- List popular languages for Data Science.\n",
    "- Understand basic operations in Python.\n",
    "- Learn how to use Jupyter Notebook.\n",
    "- Explore GitHub for sharing projects.\n"
   ]
  },
  {
   "cell_type": "markdown",
   "id": "429aea2b-d55a-4e5f-8605-2c339d975165",
   "metadata": {},
   "source": [
    "## Author\n",
    "Maria Paula Bustos\n"
   ]
  },
  {
   "cell_type": "code",
   "execution_count": null,
   "id": "1124b6df-c110-4efc-ae56-6c82daa85ab5",
   "metadata": {},
   "outputs": [],
   "source": []
  }
 ],
 "metadata": {
  "kernelspec": {
   "display_name": "Python",
   "language": "python",
   "name": "conda-env-python-py"
  },
  "language_info": {
   "codemirror_mode": {
    "name": "ipython",
    "version": 3
   },
   "file_extension": ".py",
   "mimetype": "text/x-python",
   "name": "python",
   "nbconvert_exporter": "python",
   "pygments_lexer": "ipython3",
   "version": "3.7.12"
  }
 },
 "nbformat": 4,
 "nbformat_minor": 5
}
